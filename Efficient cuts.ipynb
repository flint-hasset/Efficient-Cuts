{
 "cells": [
  {
   "cell_type": "code",
   "execution_count": 184,
   "metadata": {
    "collapsed": true
   },
   "outputs": [],
   "source": [
    "from itertools import combinations\n",
    "from itertools import repeat\n",
    "from random import randint\n",
    "from random import shuffle\n",
    "from random import sample"
   ]
  },
  {
   "cell_type": "code",
   "execution_count": 279,
   "metadata": {
    "collapsed": true
   },
   "outputs": [],
   "source": [
    "stock = 144.0\n",
    "cut_l = [53.125, 53.5625, 120.0, 120.125, 110.0, 6.75, 22.125, 16, 16, 25, 14.375, 16]\n",
    "kerf = 0#0.125\n",
    "\n",
    "n_cuts = 25\n",
    "max_cut = int(stock*.3)\n",
    "p_cut_list = []\n",
    "for x in range(n_cuts):\n",
    "    p_cut_list.append(randint(1, max_cut))\n"
   ]
  },
  {
   "cell_type": "code",
   "execution_count": 280,
   "metadata": {},
   "outputs": [
    {
     "data": {
      "text/plain": [
       "43"
      ]
     },
     "execution_count": 280,
     "metadata": {},
     "output_type": "execute_result"
    }
   ],
   "source": [
    "max(p_cut_list)"
   ]
  },
  {
   "cell_type": "code",
   "execution_count": 281,
   "metadata": {},
   "outputs": [
    {
     "name": "stdout",
     "output_type": "stream",
     "text": [
      "0\n",
      "Used: 4.208333333333333 Left Over 114.0 Optimal: 3.9166666666666665\n",
      "Boards [[43, 27, 15, 8, 11, 24, 15, 1], [43, 30, 39, 17, 8, 1], [41, 38, 37, 9, 11], [38, 21, 17, 21, 19], [30]]\n",
      "Used: 3.951388888888889 Left Over 7.0 Optimal: 3.9166666666666665\n",
      "Boards [[43, 27, 30, 19, 15, 8, 1, 1], [43, 38, 11, 39, 11], [41, 21, 24, 17, 21, 8, 9], [38, 37, 15, 17, 30]]\n",
      "Used: 3.9375 Left Over 9.0 Optimal: 3.9166666666666665\n",
      "Boards [[43, 8, 1, 15, 38, 27, 8, 1], [43, 37, 21, 15, 19, 9], [41, 30, 39, 17, 17], [38, 11, 24, 11, 30, 21]]\n",
      "Used: 3.9305555555555554 Left Over 10.0 Optimal: 3.9166666666666665\n",
      "Boards [[43, 38, 8, 15, 38, 1, 1], [43, 8, 37, 30, 24], [41, 39, 27, 11, 17, 9], [30, 19, 21, 17, 15, 11, 21]]\n",
      "Used: 3.9166666666666665 Left Over 12.0 Optimal: 3.9166666666666665\n",
      "Boards [[43, 17, 1, 41, 15, 8, 19], [43, 24, 21, 8, 38, 1, 9], [39, 11, 27, 30, 37], [38, 17, 30, 15, 11, 21]]\n",
      "0.09958063624799252\n"
     ]
    }
   ],
   "source": [
    "import timeit\n",
    "start = timeit.default_timer()\n",
    "best_result = len(p_cut_list)\n",
    "for combs in range (1000):\n",
    "    if combs%1000 == 0:\n",
    "        print(combs)\n",
    "    cut_list= sample(p_cut_list, len(p_cut_list))\n",
    "    board=[]\n",
    "    board_list=[]\n",
    "    total_boards=0\n",
    "    while sum(cut_list)>0:\n",
    "        board=[]\n",
    "        drop_list=[]\n",
    "        board.append(max(cut_list))\n",
    "        cut_list.remove(max(cut_list))\n",
    "        for x in range(len(cut_list)):\n",
    "            if sum(board)+cut_list[x]<=stock:\n",
    "                drop_list.append(x)\n",
    "                board.append(cut_list[x])\n",
    "        board_list.append(board)\n",
    "        total_boards = total_boards+1\n",
    "        cut_list = [v for i, v in enumerate(cut_list) if i not in drop_list]\n",
    "        \n",
    "    result = total_boards-1+sum(board)/stock\n",
    "    if result<best_result:\n",
    "        best_result = result\n",
    "        best_boards = board_list\n",
    "        print(\"Used:\", total_boards-1+sum(board)/stock, \"Left Over\", stock-sum(board) , \"Optimal:\",sum(p_cut_list)/stock) \n",
    "        print(\"Boards\", best_boards)\n",
    "stop=timeit.default_timer()\n",
    "print(stop-start)"
   ]
  },
  {
   "cell_type": "code",
   "execution_count": null,
   "metadata": {
    "collapsed": true
   },
   "outputs": [],
   "source": []
  },
  {
   "cell_type": "code",
   "execution_count": null,
   "metadata": {
    "collapsed": true
   },
   "outputs": [],
   "source": []
  },
  {
   "cell_type": "code",
   "execution_count": 282,
   "metadata": {},
   "outputs": [
    {
     "name": "stdout",
     "output_type": "stream",
     "text": [
      "[43, 43, 41, 17]\n",
      "with 0.0 left over\n",
      "------------------------------------\n",
      "[39, 38, 37, 30]\n",
      "with 0.0 left over\n",
      "------------------------------------\n",
      "[38, 30, 27, 24, 17, 8]\n",
      "with 0.0 left over\n",
      "------------------------------------\n",
      "[21, 21, 19, 15, 15, 11, 11, 9, 8, 1, 1]\n",
      "with 12.0 left over\n",
      "------------------------------------\n",
      "4 total pieces\n",
      "25 12.90743884514086\n"
     ]
    }
   ],
   "source": [
    "import timeit\n",
    "\n",
    "\n",
    "start = timeit.default_timer()\n",
    "\n",
    "cuts = [0]\n",
    "lk = []\n",
    "lbest = [0]\n",
    "quant = []\n",
    "for pc in p_cut_list:\n",
    "    total = pc + kerf\n",
    "    lk.append(total)\n",
    "while True:\n",
    "    lk.sort(reverse=True)\n",
    "    s2 = stock-lk[0]\n",
    "    #create list for finished lengths plus kerf\n",
    "    l2 = []\n",
    "    l3 = []\n",
    "    l3.append(lk[0])\n",
    "    lk.pop(0)\n",
    "    drop = s2/1\n",
    "    bestdrop = drop/1   \n",
    "    if len(lk) > 0:\n",
    "        for n in range(1, len(lk)+1):\n",
    "            numbers = combinations(lk, n)\n",
    "            for combo in numbers:\n",
    "                if s2 - sum(list(combo)) >= 0:\n",
    "                    drop = s2 - sum(list(combo))\n",
    "                    #print(sum(list(combo)))\n",
    "                    #print(list(numbers))\n",
    "                    if drop < bestdrop:\n",
    "                        bestdrop = drop\n",
    "                        lbest =(list(combo))\n",
    "    else:\n",
    "        lbest = []\n",
    "    l2.extend(lbest)\n",
    "    #print(\"cut: \")\n",
    "    for pc in l2:\n",
    "        if pc in lk:\n",
    "            lk.remove(pc)\n",
    "    del cuts\n",
    "    cuts = [(l3[0] - kerf)]\n",
    "    if len(l2) > 0:\n",
    "        for item in l2:\n",
    "            og = item - kerf\n",
    "            cuts.append(og)\n",
    "    print(cuts)\n",
    "    print(\"with \"+str(bestdrop)+\" left over\")\n",
    "    print(\"------------------------------------\")\n",
    "    quant.append(1)\n",
    "    if len(lk) == 0:\n",
    "        break\n",
    "print(str(len(quant)) + \" total pieces\")\n",
    "\n",
    "stop = timeit.default_timer()\n",
    "\n",
    "print(n_cuts, stop-start)\n"
   ]
  },
  {
   "cell_type": "code",
   "execution_count": null,
   "metadata": {
    "collapsed": true
   },
   "outputs": [],
   "source": []
  }
 ],
 "metadata": {
  "kernelspec": {
   "display_name": "Python 3",
   "language": "python",
   "name": "python3"
  },
  "language_info": {
   "codemirror_mode": {
    "name": "ipython",
    "version": 3
   },
   "file_extension": ".py",
   "mimetype": "text/x-python",
   "name": "python",
   "nbconvert_exporter": "python",
   "pygments_lexer": "ipython3",
   "version": "3.6.1"
  }
 },
 "nbformat": 4,
 "nbformat_minor": 2
}
